{
  "metadata": {
    "language_info": {
      "codemirror_mode": {
        "name": "python",
        "version": 3
      },
      "file_extension": ".py",
      "mimetype": "text/x-python",
      "name": "python",
      "nbconvert_exporter": "python",
      "pygments_lexer": "ipython3",
      "version": "3.8"
    },
    "kernelspec": {
      "name": "python",
      "display_name": "Python (Pyodide)",
      "language": "python"
    }
  },
  "nbformat_minor": 4,
  "nbformat": 4,
  "cells": [
    {
      "cell_type": "code",
      "source": "from tkinter import *\n\nroot = Tk()\nroot.geometry(\"500x500\")\nroot.title(\"Drone Path Planning\")\n\n# Input fields\nnum_drones_label = Label(root, text=\"Enter number of drones:\")\nnum_drones_label.pack()\nnum_drones_entry = Entry(root)\nnum_drones_entry.pack()\n\ndrone_pos_label = Label(root, text=\"Enter starting and ending positions of drones:\")\ndrone_pos_label.pack()\n\ndrone_pos_frame = Frame(root)\ndrone_pos_frame.pack()\n\n# Add entry fields for each drone\ndrone_entries = []\nfor i in range(num_drones):\n    drone_frame = Frame(drone_pos_frame)\n    drone_frame.pack()\n    drone_label = Label(drone_frame, text=f\"Drone {i+1}:\")\n    drone_label.pack(side=LEFT)\n    drone_pos_entry = Entry(drone_frame)\n    drone_pos_entry.pack(side=LEFT)\n    drone_entries.append(drone_pos_entry)\n\n# Button to run the algorithm\nrun_button = Button(root, text=\"Run Algorithm\", command=run_algorithm)\nrun_button.pack()\n\n# Output window\noutput_window = Toplevel(root)\noutput_window.geometry(\"500x500\")\noutput_window.title(\"Drone Path Output\")\noutput_text = Text(output_window)\noutput_text.pack()\n\ndef run_algorithm():\n    num_drones = int(num_drones_entry.get())\n    drone_positions = []\n    for i in range(num_drones):\n        pos_str = drone_entries[i].get()\n        pos = [int(x) for x in pos_str.split()]\n        drone_positions.append(pos)\n    \n    # Call the algorithm with the drone positions as input\n    paths = drone_path_planning_algorithm(drone_positions)\n    \n    # Display the output in the output window\n    output_text.delete(1.0, END)\n    for i, path in enumerate(paths):\n        output_text.insert(END, f\"Drone {i+1} path: {path}\\n\")\n",
      "metadata": {
        "trusted": true
      },
      "execution_count": 1,
      "outputs": [
        {
          "ename": "<class 'ModuleNotFoundError'>",
          "evalue": "The module 'tkinter' is removed from the Python standard library in the Pyodide distribution due to browser limitations.\nSee https://pyodide.org/en/stable/usage/loading-packages.html for more details.",
          "traceback": [
            "\u001b[0;31m---------------------------------------------------------------------------\u001b[0m",
            "\u001b[0;31mModuleNotFoundError\u001b[0m                       Traceback (most recent call last)",
            "Cell \u001b[0;32mIn[1], line 1\u001b[0m\n\u001b[0;32m----> 1\u001b[0m \u001b[38;5;28;01mfrom\u001b[39;00m \u001b[38;5;21;01mtkinter\u001b[39;00m \u001b[38;5;28;01mimport\u001b[39;00m \u001b[38;5;241m*\u001b[39m\n\u001b[1;32m      3\u001b[0m root \u001b[38;5;241m=\u001b[39m Tk()\n\u001b[1;32m      4\u001b[0m root\u001b[38;5;241m.\u001b[39mgeometry(\u001b[38;5;124m\"\u001b[39m\u001b[38;5;124m500x500\u001b[39m\u001b[38;5;124m\"\u001b[39m)\n",
            "\u001b[0;31mModuleNotFoundError\u001b[0m: The module 'tkinter' is removed from the Python standard library in the Pyodide distribution due to browser limitations.\nSee https://pyodide.org/en/stable/usage/loading-packages.html for more details."
          ],
          "output_type": "error"
        }
      ]
    }
  ]
}